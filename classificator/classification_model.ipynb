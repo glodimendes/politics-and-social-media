{
 "cells": [
  {
   "cell_type": "code",
   "execution_count": 1,
   "id": "9d072285-a964-4391-bfa1-e20e3c6f7186",
   "metadata": {},
   "outputs": [],
   "source": [
    "import pandas as pd\n",
    "import numpy as np"
   ]
  },
  {
   "cell_type": "code",
   "execution_count": 9,
   "id": "2e64e53a-a99b-4a30-acdb-3e8303c97a3c",
   "metadata": {},
   "outputs": [
    {
     "name": "stderr",
     "output_type": "stream",
     "text": [
      "/var/folders/hb/ql93z14s1z15lknblg3cqpsw0000gn/T/ipykernel_34415/2071522146.py:1: DtypeWarning: Columns (15,17,18,19,21,22,23,25,26,27,29,30,31,33,34,35,37,38,1508,1509) have mixed types. Specify dtype option on import or set low_memory=False.\n",
      "  df = pd.read_csv(\"anes_timeseries_2020/anes_timeseries_2020_csv_20220210.csv\", encoding='latin1')\n"
     ]
    }
   ],
   "source": [
    "df = pd.read_csv(\"anes_timeseries_2020/anes_timeseries_2020_csv_20220210.csv\", encoding='latin1')\n",
    "\n",
    "#don't use any data to train the model where there is no clear answer on the self-reported political ideology\n",
    "invalid_ideology_values = [-9, -8, 99]\n",
    "df_valid = df[~df['V201200'].isin(invalid_ideology_values)]\n"
   ]
  },
  {
   "cell_type": "code",
   "execution_count": 14,
   "id": "39fa8a15-bf01-4feb-a99f-462e2e6e1151",
   "metadata": {},
   "outputs": [
    {
     "name": "stdout",
     "output_type": "stream",
     "text": [
      "0             Conservative\n",
      "1                 Moderate\n",
      "2                  Liberal\n",
      "3         Slightly liberal\n",
      "4    Slightly conservative\n",
      "Name: V201200, dtype: object\n"
     ]
    }
   ],
   "source": [
    "#turn numbers on the scale into labels to avoid creating a sense of distance between categories\n",
    "def ideology_label(val):\n",
    "    if val == 1:\n",
    "        return \"Extremely liberal\"\n",
    "    elif val == 2:\n",
    "        return \"Liberal\"\n",
    "    elif val == 3:\n",
    "        return \"Slightly liberal\"\n",
    "    elif val == 4:\n",
    "        return \"Moderate\"\n",
    "    elif val == 5:\n",
    "        return \"Slightly conservative\"\n",
    "    elif val == 6:\n",
    "        return \"Conservative\"\n",
    "    elif val == 7:\n",
    "        return \"Extremely conservative\"\n",
    "    else:\n",
    "        raise Exception(\"Value is not on the required scale\")\n",
    "\n",
    "Y = df_valid['V201200'].apply(ideology_label)\n",
    "\n"
   ]
  }
 ],
 "metadata": {
  "kernelspec": {
   "display_name": "Python 3 (ipykernel)",
   "language": "python",
   "name": "python3"
  },
  "language_info": {
   "codemirror_mode": {
    "name": "ipython",
    "version": 3
   },
   "file_extension": ".py",
   "mimetype": "text/x-python",
   "name": "python",
   "nbconvert_exporter": "python",
   "pygments_lexer": "ipython3",
   "version": "3.12.0"
  }
 },
 "nbformat": 4,
 "nbformat_minor": 5
}
