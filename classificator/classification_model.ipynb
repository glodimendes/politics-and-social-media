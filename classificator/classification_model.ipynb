{
 "cells": [
  {
   "cell_type": "code",
   "execution_count": 1,
   "id": "9d072285-a964-4391-bfa1-e20e3c6f7186",
   "metadata": {},
   "outputs": [],
   "source": [
    "import pandas as pd\n",
    "import numpy as np"
   ]
  },
  {
   "cell_type": "code",
   "execution_count": 2,
   "id": "2e64e53a-a99b-4a30-acdb-3e8303c97a3c",
   "metadata": {},
   "outputs": [
    {
     "name": "stderr",
     "output_type": "stream",
     "text": [
      "/var/folders/hb/ql93z14s1z15lknblg3cqpsw0000gn/T/ipykernel_35166/2071522146.py:1: DtypeWarning: Columns (15,17,18,19,21,22,23,25,26,27,29,30,31,33,34,35,37,38,1508,1509) have mixed types. Specify dtype option on import or set low_memory=False.\n",
      "  df = pd.read_csv(\"anes_timeseries_2020/anes_timeseries_2020_csv_20220210.csv\", encoding='latin1')\n"
     ]
    }
   ],
   "source": [
    "df = pd.read_csv(\"anes_timeseries_2020/anes_timeseries_2020_csv_20220210.csv\", encoding='latin1')\n",
    "\n",
    "#don't use any data to train the model where there is no clear answer on the self-reported political ideology\n",
    "invalid_ideology_values = [-9, -8, 99]\n",
    "df_valid = df[~df['V201200'].isin(invalid_ideology_values)]\n"
   ]
  },
  {
   "cell_type": "code",
   "execution_count": 25,
   "id": "39fa8a15-bf01-4feb-a99f-462e2e6e1151",
   "metadata": {},
   "outputs": [],
   "source": [
    "#turn numbers on the scale into labels to avoid creating a sense of distance between categories\n",
    "def ideology_label(val):\n",
    "    if val in [1,2]:\n",
    "        return \"Extremely liberal\"\n",
    "    elif val == 3:\n",
    "        return \"Liberal\"\n",
    "    elif val == 4:\n",
    "        return \"Moderate\"\n",
    "    elif val == 5:\n",
    "        return \"Conservative\"\n",
    "    elif val in [6, 7]:\n",
    "        return \"Extremely conservative\"\n",
    "    else:\n",
    "        raise Exception(\"Value is not on the required scale\")\n",
    "\n",
    "Y = df_valid['V201200'].apply(ideology_label)\n",
    "\n",
    "def simplify_ideology(val):\n",
    "    if val in [\"Extremely liberal\", \"Liberal\"]:\n",
    "        return \"Liberal\"\n",
    "    elif val in [\"Extremely conservative\", \"Conservative\"]:\n",
    "        return \"Conservative\"\n",
    "    elif val == \"Moderate\":\n",
    "        return \"Moderate\"\n",
    "    else:\n",
    "        return pd.NA\n",
    "\n",
    "Y = Y.apply(simplify_ideology)"
   ]
  },
  {
   "cell_type": "code",
   "execution_count": 26,
   "id": "fc11ab6a-500b-4ba7-807f-4f581f17a4fc",
   "metadata": {},
   "outputs": [],
   "source": [
    "# Prepare all the features\n",
    "features = [\n",
    "    # Climate change\n",
    "    \"V202332\", \"V202333\", \"V202334\",\n",
    "\n",
    "    # Immigration\n",
    "    \"V202232\", \"V202233\", \"V202234\", \"V202237\", \"V202240\", \"V202243\",\n",
    "\n",
    "    # Abortion\n",
    "    \"V201336\", \"V201337\", \"V201340\",\n",
    "\n",
    "    # Gun control\n",
    "    \"V202337\", \"V202339\", \"V202342\", \"V202345\",\n",
    "\n",
    "    # Race\n",
    "    \"V202300\", \"V202487\", \"V202488\",\n",
    "\n",
    "    # Gender equality\n",
    "    \"V202287\", \"V202291\", \"V202292\",\n",
    "\n",
    "    # LGBTQ+ rights\n",
    "    \"V201409\", \"V201412\", \"V202533\"\n",
    "]\n",
    "\n",
    "X = df_valid[features]\n",
    "missing_values = [-9, -8, -7, -6, -1]\n",
    "X = X.replace(missing_values, pd.NA)\n",
    "\n",
    "X = X.dropna()\n",
    "Y = Y.loc[X.index]  # Align y with filtered X"
   ]
  },
  {
   "cell_type": "code",
   "execution_count": 27,
   "id": "57b7d137-1329-4b67-a210-18c74cde8694",
   "metadata": {},
   "outputs": [],
   "source": [
    "#Create a classifier with a Random Forest model\n",
    "from sklearn.ensemble import RandomForestClassifier\n",
    "from sklearn.model_selection import train_test_split\n",
    "from sklearn.metrics import classification_report, confusion_matrix\n",
    "    "
   ]
  },
  {
   "cell_type": "code",
   "execution_count": 28,
   "id": "60025951-9646-4bdf-9641-53cb54cec769",
   "metadata": {},
   "outputs": [
    {
     "name": "stdout",
     "output_type": "stream",
     "text": [
      "Classification Report:\n",
      "              precision    recall  f1-score   support\n",
      "\n",
      "Conservative       0.77      0.83      0.80       453\n",
      "     Liberal       0.73      0.79      0.76       434\n",
      "    Moderate       0.44      0.33      0.38       298\n",
      "\n",
      "    accuracy                           0.69      1185\n",
      "   macro avg       0.64      0.65      0.64      1185\n",
      "weighted avg       0.67      0.69      0.68      1185\n",
      "\n",
      "Confusion Matrix:\n",
      "[[377  25  51]\n",
      " [ 17 341  76]\n",
      " [ 97 102  99]]\n"
     ]
    }
   ],
   "source": [
    "#Split into test and training\n",
    "X_train, X_test, y_train, y_test = train_test_split(\n",
    "    X, Y, test_size=0.2, random_state=42, stratify=Y\n",
    ")\n",
    "\n",
    "\n",
    "#Train model\n",
    "clf = RandomForestClassifier(\n",
    "    n_estimators=100,       # Number of trees\n",
    "    max_depth=None,         # Let trees grow fully\n",
    "    random_state=42,\n",
    "    class_weight='balanced'\n",
    ")\n",
    "clf.fit(X_train, y_train)\n",
    "\n",
    "#Evaluate the model\n",
    "y_pred = clf.predict(X_test)\n",
    "\n",
    "# Print metrics\n",
    "print(\"Classification Report:\")\n",
    "print(classification_report(y_test, y_pred))\n",
    "\n",
    "print(\"Confusion Matrix:\")\n",
    "print(confusion_matrix(y_test, y_pred))\n"
   ]
  },
  {
   "cell_type": "code",
   "execution_count": 29,
   "id": "c08fba35-3168-493c-b370-fcabd4d1e013",
   "metadata": {},
   "outputs": [
    {
     "name": "stdout",
     "output_type": "stream",
     "text": [
      "Classification Report:\n",
      "              precision    recall  f1-score   support\n",
      "\n",
      "Conservative       0.71      0.71      0.71       453\n",
      "     Liberal       0.69      0.72      0.70       434\n",
      "    Moderate       0.34      0.32      0.33       298\n",
      "\n",
      "    accuracy                           0.62      1185\n",
      "   macro avg       0.58      0.58      0.58      1185\n",
      "weighted avg       0.61      0.62      0.61      1185\n",
      "\n",
      "Confusion Matrix:\n",
      "[[323  36  94]\n",
      " [ 34 311  89]\n",
      " [ 99 104  95]]\n"
     ]
    }
   ],
   "source": [
    "#Neural Network Model\n",
    "\n",
    "from sklearn.model_selection import train_test_split\n",
    "from sklearn.neural_network import MLPClassifier\n",
    "from sklearn.metrics import classification_report, confusion_matrix\n",
    "from sklearn.preprocessing import StandardScaler, LabelEncoder\n",
    "\n",
    "\n",
    "label_encoder = LabelEncoder()\n",
    "y_encoded = label_encoder.fit_transform(Y)\n",
    "\n",
    "# Scale the features (important for neural networks!)\n",
    "scaler = StandardScaler()\n",
    "X_scaled = scaler.fit_transform(X)\n",
    "\n",
    "# Train/test split\n",
    "X_train, X_test, y_train, y_test = train_test_split(\n",
    "    X_scaled, y_encoded, test_size=0.2, random_state=42, stratify=y_encoded\n",
    ")\n",
    "\n",
    "mlp = MLPClassifier(\n",
    "    hidden_layer_sizes=(100, 50),  # Two layers: 100 and 50 neurons\n",
    "    activation='relu',\n",
    "    solver='adam',\n",
    "    max_iter=300,\n",
    "    random_state=42\n",
    ")\n",
    "mlp.fit(X_train, y_train)\n",
    "\n",
    "\n",
    "y_pred = mlp.predict(X_test)\n",
    "\n",
    "print(\"Classification Report:\")\n",
    "print(classification_report(y_test, y_pred, target_names=label_encoder.classes_))\n",
    "\n",
    "print(\"Confusion Matrix:\")\n",
    "print(confusion_matrix(y_test, y_pred))\n"
   ]
  }
 ],
 "metadata": {
  "kernelspec": {
   "display_name": "Python 3 (ipykernel)",
   "language": "python",
   "name": "python3"
  },
  "language_info": {
   "codemirror_mode": {
    "name": "ipython",
    "version": 3
   },
   "file_extension": ".py",
   "mimetype": "text/x-python",
   "name": "python",
   "nbconvert_exporter": "python",
   "pygments_lexer": "ipython3",
   "version": "3.12.0"
  }
 },
 "nbformat": 4,
 "nbformat_minor": 5
}
