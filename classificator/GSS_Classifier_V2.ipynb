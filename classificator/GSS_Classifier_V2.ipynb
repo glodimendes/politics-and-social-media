{
 "cells": [
  {
   "cell_type": "markdown",
   "id": "404239f5",
   "metadata": {},
   "source": [
    "# Classifier for Political Ideology using GSS Data"
   ]
  },
  {
   "cell_type": "code",
   "execution_count": null,
   "id": "29e6255b-e4e8-4df4-a259-8cff27f5b9e4",
   "metadata": {},
   "outputs": [],
   "source": [
    "import pandas as pd\n",
    "from sklearn.model_selection import train_test_split\n",
    "from sklearn.preprocessing import LabelEncoder\n",
    "from sklearn.ensemble import RandomForestClassifier\n",
    "from sklearn.metrics import classification_report, accuracy_score\n",
    "import matplotlib.pyplot as plt\n"
   ]
  },
  {
   "cell_type": "code",
   "execution_count": 7,
   "id": "a9519731-a2af-427b-b1f0-7f999bd245c2",
   "metadata": {},
   "outputs": [
    {
     "name": "stdout",
     "output_type": "stream",
     "text": [
      "   year                      polviews            grass abany\n",
      "0  2014                  Conservative  Should be legal   YES\n",
      "1  2014         Slightly conservative  Should be legal    NO\n",
      "4  2014  Moderate, middle of the road  Should be legal    NO\n",
      "8  2014  Moderate, middle of the road  Should be legal    NO\n",
      "9  2014              Slightly liberal  Should be legal   YES\n"
     ]
    }
   ],
   "source": [
    "\n",
    "# Political Ideology Classifier Using GSS Data\n",
    "\n",
    "\n",
    "## Step 2: Load Data\n",
    "df = pd.read_excel(\"result-2/GSS.xlsx\", sheet_name=\"Data\")\n",
    "\n",
    "## Step 3: Filter Valid Rows\n",
    "# Keep only rows where all required values are present\n",
    "df = df[['year', 'polviews', 'grass', 'abany']]\n",
    "df = df.dropna()\n",
    "df = df[~df.apply(lambda row: row.astype(str).str.contains(\":\").any(), axis=1)]\n",
    "\n",
    "print(df.head())"
   ]
  },
  {
   "cell_type": "code",
   "execution_count": null,
   "id": "247d7d2f-9761-4789-b5fc-0bc25481353a",
   "metadata": {},
   "outputs": [],
   "source": [
    "\n",
    "## Step 4: Encode Categorical Variables\n",
    "# Simplify polviews to 3 categories\n",
    "def simplify_polviews(val):\n",
    "    if \"liberal\" in val.lower():\n",
    "        return \"liberal\"\n",
    "    elif \"conservative\" in val.lower():\n",
    "        return \"conservative\"\n",
    "    elif \"moderate\" in val.lower():\n",
    "        return \"moderate\"\n",
    "    else:\n",
    "        return None\n",
    "\n",
    "df['polviews_simplified'] = df['polviews'].apply(simplify_polviews)\n",
    "df = df[df['polviews_simplified'].notnull()]\n"
   ]
  },
  {
   "cell_type": "code",
   "execution_count": 6,
   "id": "cb5fede9",
   "metadata": {},
   "outputs": [
    {
     "name": "stdout",
     "output_type": "stream",
     "text": [
      "   year                      polviews            grass abany\n",
      "0  2014                  Conservative  Should be legal   YES\n",
      "1  2014         Slightly conservative  Should be legal    NO\n",
      "4  2014  Moderate, middle of the road  Should be legal    NO\n",
      "8  2014  Moderate, middle of the road  Should be legal    NO\n",
      "9  2014              Slightly liberal  Should be legal   YES\n",
      "Accuracy: 0.4744094488188976\n",
      "\n",
      "Classification Report:\n",
      "               precision    recall  f1-score   support\n",
      "\n",
      "conservative       0.53      0.37      0.43       175\n",
      "     liberal       0.48      0.61      0.54       145\n",
      "    moderate       0.44      0.47      0.45       188\n",
      "\n",
      "    accuracy                           0.47       508\n",
      "   macro avg       0.48      0.48      0.47       508\n",
      "weighted avg       0.48      0.47      0.47       508\n",
      "\n"
     ]
    },
    {
     "data": {
      "image/png": "[encoded data removed]",
      "text/plain": [
       "<Figure size 640x480 with 2 Axes>"
      ]
     },
     "metadata": {},
     "output_type": "display_data"
    }
   ],
   "source": [
    "\n",
    "# Encode other categorical responses\n",
    "df['grass_encoded'] = df['grass'].map({\n",
    "    \"Should be legal\": 1,\n",
    "    \"Should not be legal\": 0\n",
    "})\n",
    "\n",
    "df['abany_encoded'] = df['abany'].map({\n",
    "    \"YES\": 1,\n",
    "    \"NO\": 0\n",
    "})\n",
    "\n",
    "df = df.dropna(subset=['grass_encoded', 'abany_encoded'])\n",
    "\n",
    "## Step 5: Prepare Data for Modeling\n",
    "X = df[['grass_encoded', 'abany_encoded']]\n",
    "y = df['polviews_simplified']\n",
    "\n",
    "label_encoder = LabelEncoder()\n",
    "y_encoded = label_encoder.fit_transform(y)\n",
    "\n",
    "## Step 6: Train-Test Split\n",
    "X_train, X_test, y_train, y_test = train_test_split(X, y_encoded, test_size=0.2, random_state=42)\n",
    "\n",
    "## Step 7: Train Classifier\n",
    "model = RandomForestClassifier(n_estimators=100, random_state=42)\n",
    "model.fit(X_train, y_train)\n",
    "\n",
    "## Step 8: Evaluate\n",
    "y_pred = model.predict(X_test)\n",
    "print(\"Accuracy:\", accuracy_score(y_test, y_pred))\n",
    "print(\"\\nClassification Report:\\n\", classification_report(y_test, y_pred, target_names=label_encoder.classes_))\n",
    "\n",
    "## Step 9: Visualize\n",
    "sns.heatmap(pd.crosstab(label_encoder.inverse_transform(y_test), label_encoder.inverse_transform(y_pred)), annot=True, fmt=\"d\")\n",
    "plt.xlabel(\"Predicted\")\n",
    "plt.ylabel(\"Actual\")\n",
    "plt.title(\"Confusion Matrix\")\n",
    "plt.show()\n"
   ]
  },
  {
   "cell_type": "code",
   "execution_count": 2,
   "id": "b6b0d081-f741-4fef-bf29-7d20277e191a",
   "metadata": {},
   "outputs": [
    {
     "name": "stdout",
     "output_type": "stream",
     "text": [
      "Collecting openpyxl\n",
      "  Obtaining dependency information for openpyxl from https://files.pythonhosted.org/packages/c0/da/977ded879c29cbd04de313843e76868e6e13408a94ed6b987245dc7c8506/openpyxl-3.1.5-py2.py3-none-any.whl.metadata\n",
      "  Downloading openpyxl-3.1.5-py2.py3-none-any.whl.metadata (2.5 kB)\n",
      "Collecting et-xmlfile (from openpyxl)\n",
      "  Obtaining dependency information for et-xmlfile from https://files.pythonhosted.org/packages/c1/8b/5fe2cc11fee489817272089c4203e679c63b570a5aaeb18d852ae3cbba6a/et_xmlfile-2.0.0-py3-none-any.whl.metadata\n",
      "  Downloading et_xmlfile-2.0.0-py3-none-any.whl.metadata (2.7 kB)\n",
      "Downloading openpyxl-3.1.5-py2.py3-none-any.whl (250 kB)\n",
      "\u001b[2K   \u001b[90m━━━━━━━━━━━━━━━━━━━━━━━━━━━━━━━━━━━━━━━━\u001b[0m \u001b[32m250.9/250.9 kB\u001b[0m \u001b[31m7.1 MB/s\u001b[0m eta \u001b[36m0:00:00\u001b[0m\n",
      "\u001b[?25hDownloading et_xmlfile-2.0.0-py3-none-any.whl (18 kB)\n",
      "Installing collected packages: et-xmlfile, openpyxl\n",
      "Successfully installed et-xmlfile-2.0.0 openpyxl-3.1.5\n",
      "\n",
      "\u001b[1m[\u001b[0m\u001b[34;49mnotice\u001b[0m\u001b[1;39;49m]\u001b[0m\u001b[39;49m A new release of pip is available: \u001b[0m\u001b[31;49m23.2.1\u001b[0m\u001b[39;49m -> \u001b[0m\u001b[32;49m25.1.1\u001b[0m\n",
      "\u001b[1m[\u001b[0m\u001b[34;49mnotice\u001b[0m\u001b[1;39;49m]\u001b[0m\u001b[39;49m To update, run: \u001b[0m\u001b[32;49m/Library/Frameworks/Python.framework/Versions/3.12/bin/python3.12 -m pip install --upgrade pip\u001b[0m\n",
      "Note: you may need to restart the kernel to use updated packages.\n"
     ]
    }
   ],
   "source": [
    "pip install openpyxl\n"
   ]
  }
 ],
 "metadata": {
  "kernelspec": {
   "display_name": "Python 3 (ipykernel)",
   "language": "python",
   "name": "python3"
  },
  "language_info": {
   "codemirror_mode": {
    "name": "ipython",
    "version": 3
   },
   "file_extension": ".py",
   "mimetype": "text/x-python",
   "name": "python",
   "nbconvert_exporter": "python",
   "pygments_lexer": "ipython3",
   "version": "3.12.0"
  }
 },
 "nbformat": 4,
 "nbformat_minor": 5
}
